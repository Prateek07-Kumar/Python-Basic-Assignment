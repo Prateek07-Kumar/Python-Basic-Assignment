{
 "cells": [
  {
   "cell_type": "markdown",
   "id": "2765d84b",
   "metadata": {},
   "source": [
    "## 1. Add the current date to the text file today.txt as a string."
   ]
  },
  {
   "cell_type": "code",
   "execution_count": 1,
   "id": "ec16c877",
   "metadata": {},
   "outputs": [
    {
     "name": "stdout",
     "output_type": "stream",
     "text": [
      "17-05-2023\n"
     ]
    }
   ],
   "source": [
    "import datetime\n",
    "# Code to Add current date to the today.txt file\n",
    "file = open('today.txt','w')\n",
    "file.write(datetime.datetime.now().strftime(\"%d-%m-%Y\"))\n",
    "file.close()\n",
    "# Code to Read current date from today.txt file\n",
    "file = open('today.txt','r')\n",
    "print(file.read())\n",
    "file.close()"
   ]
  },
  {
   "cell_type": "markdown",
   "id": "e172cde0",
   "metadata": {},
   "source": [
    "## 2. Read the text file today.txt into the string today_string"
   ]
  },
  {
   "cell_type": "code",
   "execution_count": 2,
   "id": "35df7c31",
   "metadata": {},
   "outputs": [
    {
     "name": "stdout",
     "output_type": "stream",
     "text": [
      "17-05-2023\n"
     ]
    }
   ],
   "source": [
    "file = open('today.txt','r')\n",
    "today_string = file.read()\n",
    "print(today_string)"
   ]
  },
  {
   "cell_type": "markdown",
   "id": "e6362858",
   "metadata": {},
   "source": [
    "## 3. Parse the date from today_string."
   ]
  },
  {
   "cell_type": "code",
   "execution_count": 3,
   "id": "705c565e",
   "metadata": {},
   "outputs": [
    {
     "name": "stdout",
     "output_type": "stream",
     "text": [
      "2023-05-17 00:00:00\n"
     ]
    }
   ],
   "source": [
    "from datetime import datetime\n",
    "parsed_data = datetime.strptime(today_string, '%d-%m-%Y')\n",
    "print(parsed_data)"
   ]
  },
  {
   "cell_type": "markdown",
   "id": "2c6a0d3c",
   "metadata": {},
   "source": [
    "## 4. List the files in your current directory"
   ]
  },
  {
   "cell_type": "code",
   "execution_count": 4,
   "id": "8f525ce3",
   "metadata": {},
   "outputs": [
    {
     "name": "stdout",
     "output_type": "stream",
     "text": [
      "application_log.txt\n",
      "Assignments_1.ipynb\n",
      "Assignment_10.ipynb\n",
      "Assignment_11.ipynb\n",
      "Assignment_12.ipynb\n",
      "Assignment_13.ipynb\n",
      "Assignment_14.ipynb\n",
      "Assignment_15.ipynb\n",
      "Assignment_16.ipynb\n",
      "Assignment_17.ipynb\n",
      "Assignment_18.ipynb\n",
      "Assignment_19.ipynb\n",
      "Assignment_2.ipynb\n",
      "Assignment_20.ipynb\n",
      "Assignment_21.ipynb\n",
      "Assignment_3.ipynb\n",
      "Assignment_4.ipynb\n",
      "Assignment_5.ipynb\n",
      "Assignment_6.ipynb\n",
      "Assignment_7.ipynb\n",
      "Assignment_8.ipynb\n",
      "Assignment_9.ipynb\n",
      "books.csv\n",
      "books.db\n",
      "hello.docx\n",
      "mydocument.docx\n",
      "Python_Assignment_1.ipynb\n",
      "Python_Assignment_2.ipynb\n",
      "Python_Assignment_3.ipynb\n",
      "Python_Assignment_4.ipynb\n",
      "test.txt\n",
      "today.txt\n",
      "Assignment_10-checkpoint.ipynb\n",
      "Assignment_11-checkpoint.ipynb\n",
      "Assignment_12-checkpoint.ipynb\n",
      "Assignment_13-checkpoint.ipynb\n",
      "Assignment_14-checkpoint.ipynb\n",
      "Assignment_15-checkpoint.ipynb\n",
      "Assignment_16-checkpoint.ipynb\n",
      "Assignment_17-checkpoint.ipynb\n",
      "Assignment_18-checkpoint.ipynb\n",
      "Assignment_19-checkpoint.ipynb\n",
      "Assignment_20-checkpoint.ipynb\n",
      "Assignment_21-checkpoint.ipynb\n",
      "Assignment_5-checkpoint.ipynb\n",
      "Assignment_6-checkpoint.ipynb\n",
      "Assignment_7-checkpoint.ipynb\n",
      "Assignment_8-checkpoint.ipynb\n",
      "Assignment_9-checkpoint.ipynb\n"
     ]
    }
   ],
   "source": [
    "import os\n",
    "for folders, subfolders, files in os.walk(os.getcwd()):\n",
    "    for file in files:\n",
    "        print(file)"
   ]
  },
  {
   "cell_type": "markdown",
   "id": "2f437a03",
   "metadata": {},
   "source": [
    "## 5. Create a list of all of the files in your parent directory (minimum five files should be available)."
   ]
  },
  {
   "cell_type": "code",
   "execution_count": 5,
   "id": "7c79d9f3",
   "metadata": {},
   "outputs": [
    {
     "data": {
      "text/plain": [
       "['.ipynb_checkpoints',\n",
       " 'application_log.txt',\n",
       " 'Assignments_1.ipynb',\n",
       " 'Assignment_10.ipynb',\n",
       " 'Assignment_11.ipynb',\n",
       " 'Assignment_12.ipynb',\n",
       " 'Assignment_13.ipynb',\n",
       " 'Assignment_14.ipynb',\n",
       " 'Assignment_15.ipynb',\n",
       " 'Assignment_16.ipynb',\n",
       " 'Assignment_17.ipynb',\n",
       " 'Assignment_18.ipynb',\n",
       " 'Assignment_19.ipynb',\n",
       " 'Assignment_2.ipynb',\n",
       " 'Assignment_20.ipynb',\n",
       " 'Assignment_21.ipynb',\n",
       " 'Assignment_3.ipynb',\n",
       " 'Assignment_4.ipynb',\n",
       " 'Assignment_5.ipynb',\n",
       " 'Assignment_6.ipynb',\n",
       " 'Assignment_7.ipynb',\n",
       " 'Assignment_8.ipynb',\n",
       " 'Assignment_9.ipynb',\n",
       " 'books.csv',\n",
       " 'books.db',\n",
       " 'hello.docx',\n",
       " 'mydocument.docx',\n",
       " 'Python_Assignment_1.ipynb',\n",
       " 'Python_Assignment_2.ipynb',\n",
       " 'Python_Assignment_3.ipynb',\n",
       " 'Python_Assignment_4.ipynb',\n",
       " 'test.txt',\n",
       " 'today.txt']"
      ]
     },
     "execution_count": 5,
     "metadata": {},
     "output_type": "execute_result"
    }
   ],
   "source": [
    "import os \n",
    "os.listdir()"
   ]
  },
  {
   "cell_type": "markdown",
   "id": "3de47dfd",
   "metadata": {},
   "source": [
    "## 6. Use multiprocessing to create three separate processes. Make each one wait a random number of seconds between one and five, print the current time, and then exit."
   ]
  },
  {
   "cell_type": "code",
   "execution_count": 12,
   "id": "19c79d53",
   "metadata": {},
   "outputs": [],
   "source": [
    "import multiprocessing\n",
    "import time \n",
    "import random\n",
    "import datetime\n",
    "\n",
    "def procOne():\n",
    "    print(f'Proc_one_Starttime -> {datetime.datetime.now()}')\n",
    "    time.sleep(random.randint(1,5))\n",
    "    print(f'Proc_one_Endtime -> {datetime.datetime.now()}')\n",
    "    \n",
    "def procTwo():\n",
    "    print(f'Proc_two_Starttime -> {datetime.datetime.now()}')\n",
    "    time.sleep(random.randint(1,5))\n",
    "    print(f'Proc_two_Endtime -> {datetime.datetime.now()}')\n",
    "\n",
    "def procThree():\n",
    "    print(f'Proc_two_Starttime -> {datetime.datetime.now()}')\n",
    "    time.sleep(random.randint(1,5))\n",
    "    print(f'Proc_two_Endtime -> {datetime.datetime.now()}')\n",
    "    \n",
    "if __name__ == \"__main__\":    \n",
    "    p1 = multiprocessing.Process(target=procOne)\n",
    "    p2 = multiprocessing.Process(target=procTwo)\n",
    "    p3 = multiprocessing.Process(target=procThree)\n",
    "\n",
    "    p1.start()\n",
    "    p2.start()\n",
    "    p3.start()\n",
    "\n",
    "    p1.join()\n",
    "    p2.join()\n",
    "    p3.join()"
   ]
  },
  {
   "cell_type": "markdown",
   "id": "8a1caab6",
   "metadata": {},
   "source": [
    "Due to some unknown reason. the above did not print any results in the jupyter cell. so i copied the code to a python file. executed it and pasted the ouput here\n",
    "\n",
    "(base) C:\\Users\\vishnu.adepu\\Desktop>python es_poc.py\n",
    "\n",
    "Proc_one_Starttime -> 2021-09-22 18:41:59.354061\n",
    "\n",
    "Proc_two_Starttime -> 2021-09-22 18:41:59.363712\n",
    "\n",
    "Proc_two_Starttime -> 2021-09-22 18:41:59.367238\n",
    "\n",
    "Proc_two_Endtime -> 2021-09-22 18:42:04.369860\n",
    "\n",
    "Proc_two_Endtime -> 2021-09-22 18:42:04.369860\n",
    "\n",
    "Proc_one_Endtime -> 2021-09-22 18:42:04.369860"
   ]
  },
  {
   "cell_type": "markdown",
   "id": "360dcc66",
   "metadata": {},
   "source": [
    "## 7. Create a date object of your day of birth."
   ]
  },
  {
   "cell_type": "code",
   "execution_count": 8,
   "id": "73cd9941",
   "metadata": {},
   "outputs": [
    {
     "name": "stdout",
     "output_type": "stream",
     "text": [
      "1997-04-22 00:00:00 <class 'datetime.datetime'>\n"
     ]
    }
   ],
   "source": [
    "from datetime import datetime\n",
    "my_dob = datetime.strptime('22/04/1997','%d/%m/%Y')\n",
    "print(my_dob, type(my_dob))"
   ]
  },
  {
   "cell_type": "markdown",
   "id": "ba3ecaa1",
   "metadata": {},
   "source": [
    "## 8. What day of the week was your day of birth?"
   ]
  },
  {
   "cell_type": "code",
   "execution_count": 9,
   "id": "0c805b1d",
   "metadata": {},
   "outputs": [
    {
     "data": {
      "text/plain": [
       "'Tuesday'"
      ]
     },
     "execution_count": 9,
     "metadata": {},
     "output_type": "execute_result"
    }
   ],
   "source": [
    "from datetime import datetime\n",
    "my_dob = datetime(1997,4,22)\n",
    "my_dob.strftime(\"%A\")"
   ]
  },
  {
   "cell_type": "markdown",
   "id": "e05fcceb",
   "metadata": {},
   "source": [
    "## 9. When will you be (or when were you) 10,000 days old?"
   ]
  },
  {
   "cell_type": "code",
   "execution_count": 11,
   "id": "6a50e3b7",
   "metadata": {},
   "outputs": [
    {
     "data": {
      "text/plain": [
       "datetime.datetime(1964, 3, 11, 0, 0)"
      ]
     },
     "execution_count": 11,
     "metadata": {},
     "output_type": "execute_result"
    }
   ],
   "source": [
    "from datetime import datetime, timedelta\n",
    "my_dob = datetime.strptime(\"28/07/1991\",'%d/%m/%Y')\n",
    "future_date = my_dob-timedelta(10000)\n",
    "future_date"
   ]
  },
  {
   "cell_type": "code",
   "execution_count": null,
   "id": "611f8521",
   "metadata": {},
   "outputs": [],
   "source": []
  }
 ],
 "metadata": {
  "kernelspec": {
   "display_name": "Python 3 (ipykernel)",
   "language": "python",
   "name": "python3"
  },
  "language_info": {
   "codemirror_mode": {
    "name": "ipython",
    "version": 3
   },
   "file_extension": ".py",
   "mimetype": "text/x-python",
   "name": "python",
   "nbconvert_exporter": "python",
   "pygments_lexer": "ipython3",
   "version": "3.9.7"
  }
 },
 "nbformat": 4,
 "nbformat_minor": 5
}
