{
 "cells": [
  {
   "cell_type": "markdown",
   "id": "15dd31e9",
   "metadata": {},
   "source": [
    "### 1. In the sense of machine learning, what is a model? What is the best way to train a model?\n",
    "\n",
    "In the context of machine learning, a model is a mathematical representation or algorithm that learns from data and can make predictions or decisions on new data. The model is trained on a set of data called the training data, and the goal of training is to optimize the model's parameters to minimize its error or loss on the training data.\n",
    "\n",
    "The best way to train a model depends on the specific problem and the type of model being used. However, some general guidelines for training a model are:\n",
    "\n",
    "1. **Data Preparation:** Prepare the training data by cleaning, transforming, and splitting it into training and validation sets. Ensure that the data is representative of the problem being solved and that there is enough data to adequately train the model.\n",
    "\n",
    "2. **Choose a Suitable Algorithm:** Choose an algorithm or model architecture that is appropriate for the problem being solved and the type of data being used. There are many different types of algorithms and models, including regression, decision trees, neural networks, and support vector machines.\n",
    "\n",
    "3. **Train the Model:** Train the model using the training data and an appropriate optimization algorithm. This involves adjusting the model's parameters to minimize the error or loss on the training data.\n",
    "\n",
    "4. **Evaluate the Model:** Evaluate the model's performance on the validation set to ensure that it is not overfitting to the training data. Adjust the model's hyperparameters as needed to improve its performance.\n",
    "\n",
    "5. **Test the Model:** Test the model on a separate test set to evaluate its performance on new, unseen data.\n",
    "\n",
    "6. **Deploy the Model:** Once the model has been tested and its performance is satisfactory, it can be deployed in a production environment for real-world use.\n",
    "\n",
    "The best way to train a model also involves careful consideration of the trade-offs between underfitting, where the model is too simple and does not capture the complexity of the data, and overfitting, where the model is too complex and fits the training data too closely, resulting in poor performance on new data. Balancing these trade-offs requires careful tuning of the model's hyperparameters and regularization techniques."
   ]
  },
  {
   "cell_type": "markdown",
   "id": "16960b9d",
   "metadata": {},
   "source": [
    "## 2. In the sense of machine learning, explain the \"No Free Lunch\" theorem.\n",
    "\n",
    "The No Free Lunch Theorem, often abbreviated as NFL or NFLT, is a theoretical finding that suggests all optimization algorithms perform equally well when their performance is averaged over all possible objective functions. In computational complexity and optimization the no free lunch theorem is a result that states that for certain types of mathematical problems, the computational cost of finding a solution, averaged over all problems in the class, is the same for any solution method.\n",
    "\n",
    "In Simple Words “No Free Lunch” theorem means we can’t rely on one model to be best of all models. We have to understand data properly and make use of ML understanding and make use of models to find best out of it."
   ]
  },
  {
   "cell_type": "markdown",
   "id": "4fa90ad9",
   "metadata": {},
   "source": [
    "### 3. Describe the K-fold cross-validation mechanism in detail.\n",
    "\n",
    "In K-fold cross validation, data D is subset into k subsets randomly. Let us assume S1...Sk are the subsets where Sk is the kth randomly split subset of data D. In the first iteration, D-S1 is used for training and S1 for testing the model. When the model has been trained and tested, evaluation can be done, score is noted elsewhere and the trained model is discarded.\n",
    "\n",
    "These k-iterations go on where 1/k subset of D is always set aside for testing the data and D-1/k subsets are used for training, evaluating and discarding the model. At the end of all the iterations, average of all the evaluation scores is taken and used as output."
   ]
  },
  {
   "cell_type": "markdown",
   "id": "abf491d8",
   "metadata": {},
   "source": [
    "### 4. Describe the bootstrap sampling method. What is the aim of it?\n",
    "\n",
    "The bootstrap method is a statistical technique for estimating quantities about a population by averaging estimates from multiple small data samples.\n",
    "\n",
    "Importantly, samples are constructed by drawing observations from a large data sample one at a time and returning them to the data sample after they have been chosen. This allows a given observation to be included in a given small sample more than once. This approach to sampling is called sampling with replacement."
   ]
  },
  {
   "cell_type": "markdown",
   "id": "ef33c76a",
   "metadata": {},
   "source": [
    "### 5. What is the significance of calculating the Kappa value for a classification model? Demonstrate how to measure the Kappa value of a classification model using a sample collection of results.\n",
    "\n",
    "Kappa value or Cohen's Kappa coefficient is an evaluation metric for classification models. Its significance as an evaluation metric is that it can be used to evaluate multi class classification models and also works on models trained on imbalanced datasets(scores like accuracy scores fail for imbalanced datasets).\n",
    "\n",
    "In simpler words It basically tells you how much better your classifier is performing over the performance of a classifier that simply guesses at random according to the frequency of each class. Cohen's kappa is always less than or equal to 1. Values of 0 or less, indicate that the classifier is useless Cohen suggested the Kappa result be interpreted as follows: values ≤ 0 as indicating no agreement and 0.01–0.20 as none to slight, 0.21–0.40 as fair, 0.41– 0.60 as moderate, 0.61–0.80 as substantial, and 0.81–1.00 as almost perfect agreement."
   ]
  },
  {
   "cell_type": "markdown",
   "id": "90baa14b",
   "metadata": {},
   "source": [
    "### 6. Describe the model ensemble method. In machine learning, what part does it play?\n",
    "\n",
    "Ensemble methods or ensemble machine learning models are models where more than one models are being used spontaneously to produce better results than individually trained models."
   ]
  },
  {
   "cell_type": "markdown",
   "id": "9990cadc",
   "metadata": {},
   "source": [
    "### 7. What is a descriptive model's main purpose? Give examples of real-world problems that descriptive models were used to solve.\n",
    "\n",
    "A descriptive model is used for tasks that would benefit from the insight gained from summarizing data in new and interesting ways. As opposed to predictive models that predict a target of interest, in a descriptive model, no single feature is more important than any other. In fact, because there is no target to learn, the process of training a descriptive model is called unsupervised learning.\n",
    "\n",
    "It is used in customer classification as real life problem."
   ]
  },
  {
   "cell_type": "markdown",
   "id": "40d0ca20",
   "metadata": {},
   "source": [
    "### 8. Describe how to evaluate a linear regression model.\n",
    "\n",
    "Evaluation of a linear regression model can be done using R-square. R square is calculated as the sum of squared errors in predictions made, divided by summation of all sum of squares. R square measures how much of the change in target variable can be explained by the linear regressor. Its value ranges from 0 to 1 where 0 means poor performance and 1 means good. Some other techniques which can be used to evaluate a linear regression model are:\n",
    "\n",
    "1. Mean Square Error(MSE)/Root Mean Square Error(RMSE)\n",
    "2. Mean Absolute Error(MAE)"
   ]
  },
  {
   "cell_type": "markdown",
   "id": "66915567",
   "metadata": {},
   "source": [
    "### 9. Distinguish :\n",
    "\n",
    "1. Descriptive vs. predictive models\n",
    "\n",
    "2. Underfitting vs. overfitting the model\n",
    "\n",
    "3. Bootstrapping vs. cross-validation\n",
    "\n",
    "The differences between:\n",
    "\n",
    "**Descriptive vs. predictive models**\n",
    "\n",
    "- Descriptive models are built to identify trends and underlying patterns.\n",
    "\n",
    "- Predictive models are built to predict a dependent variable value.\n",
    "\n",
    "- Most of descriptive models are built using unsupervised machine learning.\n",
    "\n",
    "- Most of predictive models are built using classification and regression models.\n",
    "\n",
    "- Example for descriptive model: Finding why consumers are engaging more with a social media post.\n",
    "\n",
    "- Example for predictive model: Predicting the chances of cancer in a patient.\n",
    "\n",
    "**Underfitting vs. overfitting the model**\n",
    "\n",
    "- Underfitting is a situation arising when the hypothesis is way too simple, or when the machine learning model is way too simple to produce good results.\n",
    "\n",
    "- Overfitting is a situation arising when the hypothesis is way too complex, or when the machine learning model is way too \n",
    "  complex to produce good results.\n",
    "\n",
    "- Underfitting causes a model to produce poor results due to heavily simplified algorithm reacting lightly to changes in the unseen data for independent variables from the training data.\n",
    "\n",
    "- Overfitting makes a model produce poor results due to slightest variations in the unseen data for independent variables from the training data\n",
    "\n",
    "- Underfitting is also called High Bias.\n",
    "\n",
    "- Overfitting is also called High variance\n",
    "\n",
    "**Bootstrapping vs cross-validation**\n",
    "\n",
    "- Boostrap sampling is a method of sampling in which the repeated sampling is done with replacement using a data D in random draws over which machine learning models are trained for better performance.\n",
    "\n",
    "- Cross validation is a method used to check the efficacy of the machine learning model on test data.\n",
    "\n",
    "- End goal of bootstrapping is to reduce overfitting and increase performance.\n",
    "\n",
    "- End goal of cross validation is only to produce test scores to check efficacy of model\n",
    "\n",
    "- Bootstrapping is best employed in Random Forest Classifier.\n",
    "\n",
    "- Cross Validation is best employed using K-fold cross validation technique."
   ]
  },
  {
   "cell_type": "markdown",
   "id": "a7e063dd",
   "metadata": {},
   "source": [
    "### 10. Make quick notes on:\n",
    "\n",
    "1. LOOCV.\n",
    "\n",
    "2. F-measurement\n",
    "\n",
    "3. The width of the silhouette\n",
    "\n",
    "4. Receiver operating characteristic curve\n",
    "\n",
    "The Quick notes on:\n",
    "\n",
    "LOOCV or Leave One Out Cross Validation is a form of K-fold cross validation where only one observation is left out for validation purpose while the rest of the data is used for model training each iteration. It is computationally taxing and should only be used for data with low dimensionality.\n",
    "\n",
    "Harmonic mean of Precision score and recall score is called F-measurement or F-score. It is formulated as 2 (pr re)/pr +re where pr is precision score and re is recall score.\n",
    "\n",
    "Estimate of average inter cluster distance to give efficacy/performance of cluster algorithms is called width of the silhouette. It can also be defined as how identical/similar a data point 'x' is to the data points inside the cluster to which x is assigned. Its value ranges from -1 to 1 where 1 means good and -1 means bad.\n",
    "\n",
    "Curve plotted between True Positive Rate and False Positive Rate is Receiver Operating Characteristics curve and is used to find the area under the curve for ROC-AUC score for binary classification evaluation. True Positive Rate and False Positive Rate are calculated for different thresholds values where thresholds take values starting from the highest probability scores assigned to data points and goes up to the lowest probability score. The curve is impacted by presence of outliers, and simple models. Extensions can be made to this curve to suit multiclass classification evaluation requirements."
   ]
  },
  {
   "cell_type": "code",
   "execution_count": null,
   "id": "a66b7507",
   "metadata": {},
   "outputs": [],
   "source": []
  }
 ],
 "metadata": {
  "kernelspec": {
   "display_name": "Python 3 (ipykernel)",
   "language": "python",
   "name": "python3"
  },
  "language_info": {
   "codemirror_mode": {
    "name": "ipython",
    "version": 3
   },
   "file_extension": ".py",
   "mimetype": "text/x-python",
   "name": "python",
   "nbconvert_exporter": "python",
   "pygments_lexer": "ipython3",
   "version": "3.10.9"
  }
 },
 "nbformat": 4,
 "nbformat_minor": 5
}
