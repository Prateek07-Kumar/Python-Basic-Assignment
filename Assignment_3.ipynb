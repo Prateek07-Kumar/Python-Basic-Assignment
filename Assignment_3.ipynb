{
 "cells": [
  {
   "cell_type": "code",
   "execution_count": null,
   "id": "9eca7179",
   "metadata": {},
   "outputs": [],
   "source": [
    "1. Why are functions advantageous to have in your programs?\n",
    "\n",
    "Ans--\n",
    "\n",
    "Functions reduce the need for duplicate code. This makes programs shorter, easier to read, and easier to update.\n"
   ]
  },
  {
   "cell_type": "code",
   "execution_count": null,
   "id": "ec6c78ae",
   "metadata": {},
   "outputs": [],
   "source": [
    "2. When does the code in a function run: when it's specified or when it's called?\n",
    "\n",
    "Ans--\n",
    "\n",
    "The code in a function executes when the function is called, not when the function is defined.\n"
   ]
  },
  {
   "cell_type": "code",
   "execution_count": null,
   "id": "8c341853",
   "metadata": {},
   "outputs": [],
   "source": [
    "3. What statement creates a function?\n",
    "\n",
    "Ans--\n",
    "\n",
    "The def statement defines, i.e. creates a function.\n"
   ]
  },
  {
   "cell_type": "code",
   "execution_count": null,
   "id": "c24a4c8d",
   "metadata": {},
   "outputs": [],
   "source": [
    "4. What is the difference between a function and a function call?\n",
    "\n",
    "Ans--\n",
    "\n",
    "A function consists of the def statement and the code in its def clause. A function call is what moves the program\n",
    "execution into the function, and the function call evaluates to the function's return value.\n"
   ]
  },
  {
   "cell_type": "code",
   "execution_count": null,
   "id": "b5fdadf6",
   "metadata": {},
   "outputs": [],
   "source": [
    "5. How many global scopes are there in a Python program? How many local scopes?\n",
    "\n",
    "Ans--\n",
    "\n",
    "There is one global scope, and a local scope is created whenever a function is called.\n"
   ]
  },
  {
   "cell_type": "code",
   "execution_count": null,
   "id": "e20786de",
   "metadata": {},
   "outputs": [],
   "source": [
    "6. What happens to variables in a local scope when the function call returns?\n",
    "\n",
    "Ans--\n",
    "\n",
    "When a function returns, the local scope is destroyed, and all the variables in it are forgotten.\n",
    "\n"
   ]
  },
  {
   "cell_type": "code",
   "execution_count": null,
   "id": "ada18949",
   "metadata": {},
   "outputs": [],
   "source": [
    "7. What is the concept of a return value? Is it possible to have a return value in an expression?\n",
    "\n",
    "Ans--\n",
    "\n",
    "A return value is the value that a function call evaluates to. Like any value, a return value can be used as part of an expression.\n"
   ]
  },
  {
   "cell_type": "code",
   "execution_count": null,
   "id": "a6366353",
   "metadata": {},
   "outputs": [],
   "source": [
    "8. If a function does not have a return statement, what is the return value of a call to that function?\n",
    "\n",
    "Ans--\n",
    "\n",
    "If there is no return statement for a function, its return value is None.\n"
   ]
  },
  {
   "cell_type": "code",
   "execution_count": null,
   "id": "36238b13",
   "metadata": {},
   "outputs": [],
   "source": [
    "9. How do you make a function variable refer to the global variable?\n",
    "\n",
    "Ans--\n",
    "\n",
    "A global statement will force a variable in a function to refer to the global variable.\n"
   ]
  },
  {
   "cell_type": "code",
   "execution_count": null,
   "id": "4d9cc236",
   "metadata": {},
   "outputs": [],
   "source": [
    "10. What is the data type of None?\n",
    "\n",
    "Ans--\n",
    "\n",
    "The data type of None is NoneType.\n"
   ]
  },
  {
   "cell_type": "code",
   "execution_count": null,
   "id": "f5a53cce",
   "metadata": {},
   "outputs": [],
   "source": [
    "11. What does the sentence import areallyourpetsnamederic do?\n",
    "\n",
    "Ans--\n",
    "\n",
    "That import statement imports a module named areallyourpetsnamederic.\n"
   ]
  },
  {
   "cell_type": "code",
   "execution_count": null,
   "id": "0f8a4b76",
   "metadata": {},
   "outputs": [],
   "source": [
    "12. If you had a bacon() feature in a spam module, what would you call it after importing spam?\n",
    "\n",
    "Ans--\n",
    "\n",
    "This function can be called with spam.bacon().\n"
   ]
  },
  {
   "cell_type": "code",
   "execution_count": null,
   "id": "289733b5",
   "metadata": {},
   "outputs": [],
   "source": [
    "13. What can you do to save a programme from crashing if it encounters an error?\n",
    "\n",
    "Ans--\n",
    "\n",
    "Place the line of code that might cause an error in a try clause."
   ]
  },
  {
   "cell_type": "code",
   "execution_count": null,
   "id": "7685751e",
   "metadata": {},
   "outputs": [],
   "source": [
    "14. What is the purpose of the try clause? What is the purpose of the except clause?\n",
    "\n",
    "Ans--\n",
    "\n",
    "> The code that could potentially cause an error goes in the try clause.\n",
    "\n",
    "> The code that executes if an error happens goes in the except clause.l\n"
   ]
  },
  {
   "cell_type": "code",
   "execution_count": null,
   "id": "82bc686f",
   "metadata": {},
   "outputs": [],
   "source": []
  },
  {
   "cell_type": "code",
   "execution_count": null,
   "id": "5af942f7",
   "metadata": {},
   "outputs": [],
   "source": []
  },
  {
   "cell_type": "code",
   "execution_count": null,
   "id": "c0b5a228",
   "metadata": {},
   "outputs": [],
   "source": []
  },
  {
   "cell_type": "code",
   "execution_count": null,
   "id": "db2aecc4",
   "metadata": {},
   "outputs": [],
   "source": []
  },
  {
   "cell_type": "code",
   "execution_count": null,
   "id": "79e8322d",
   "metadata": {},
   "outputs": [],
   "source": []
  }
 ],
 "metadata": {
  "kernelspec": {
   "display_name": "Python 3 (ipykernel)",
   "language": "python",
   "name": "python3"
  },
  "language_info": {
   "codemirror_mode": {
    "name": "ipython",
    "version": 3
   },
   "file_extension": ".py",
   "mimetype": "text/x-python",
   "name": "python",
   "nbconvert_exporter": "python",
   "pygments_lexer": "ipython3",
   "version": "3.9.7"
  }
 },
 "nbformat": 4,
 "nbformat_minor": 5
}
